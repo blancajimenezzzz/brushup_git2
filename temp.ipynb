{
 "cells": [
  {
   "cell_type": "code",
   "execution_count": 6,
   "metadata": {},
   "outputs": [
    {
     "name": "stdout",
     "output_type": "stream",
     "text": [
      "59.0\n"
     ]
    },
    {
     "data": {
      "text/plain": [
       "95.0"
      ]
     },
     "execution_count": 6,
     "metadata": {},
     "output_type": "execute_result"
    }
   ],
   "source": [
    "def c_to_f(celsius):\n",
    "    farenheit = celsius*9/5 + 32\n",
    "    return farenheit\n",
    "cel = 15\n",
    "print(c_to_f(cel))\n",
    "\n",
    "cel = input('Temperature in C: ')\n",
    "\n",
    "if isinstance(cel, str):\n",
    "    try:\n",
    "        cel = float(cel)\n",
    "    except ValueError:\n",
    "        print('Invalid input. Enter a number value.')\n",
    "        exit()\n",
    "\n",
    "if isinstance(cel, int):\n",
    "    cel = float(cel)\n",
    "\n",
    "c_to_f(cel)\n"
   ]
  },
  {
   "cell_type": "code",
   "execution_count": null,
   "metadata": {},
   "outputs": [],
   "source": []
  }
 ],
 "metadata": {
  "kernelspec": {
   "display_name": "brushup_env",
   "language": "python",
   "name": "python3"
  },
  "language_info": {
   "codemirror_mode": {
    "name": "ipython",
    "version": 3
   },
   "file_extension": ".py",
   "mimetype": "text/x-python",
   "name": "python",
   "nbconvert_exporter": "python",
   "pygments_lexer": "ipython3",
   "version": "3.12.4"
  }
 },
 "nbformat": 4,
 "nbformat_minor": 2
}
